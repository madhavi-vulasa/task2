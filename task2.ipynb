{
 "cells": [
  {
   "cell_type": "code",
   "execution_count": 1,
   "metadata": {},
   "outputs": [],
   "source": [
    "import os\n",
    "import requests\n",
    "import re\n",
    "import sys\n",
    "from bs4 import BeautifulSoup"
   ]
  },
  {
   "cell_type": "code",
   "execution_count": null,
   "metadata": {},
   "outputs": [],
   "source": [
    "url = input(\"Enter url of a medium article\")\n",
    "def get_page():\n",
    "    global url\n",
    "    if not re.match(r'https?://medium.com/',url):\n",
    "        print('Please enter a valid website, or make sure it is a medium article')\n",
    "        os.sys.exit(1)\n",
    "\n",
    "res = requests.get(url)\n",
    "\n",
    "res.raise_for_status()\n",
    "soup = BeautifulSoup(res.text, 'html.parser')\n",
    "\n",
    "return soup\n",
    "\n",
    "def clean(tex):\n",
    "    rep = {\"<br>\": \"\\n\", \"<br/>\": \"\\n\", \"<li>\":  \"\\n\"}\n",
    "    rep = dict((re.escape(k), v) for k, v in rep.items())\n",
    "    pattern = re.compile(\"|\".join(rep.keys()))\n",
    "    tex_ = pattern.sub(lambda m: rep[re.escape(m.group(0))], text)\n",
    "    tex= re.sub('\\<(.*?)\\>', '', text)\n",
    "    return text\n",
    "\n",
    "def collect_text(sou):\n",
    "    tex= f'url: {url}\\n\\n'\n",
    "    para_text = sou.find_all('p')\n",
    "    print(f\"paragraphs text = \\n {para_text}\")\n",
    "    for para in para_text:\n",
    "        tex = f\"{para.text}\\n\\n\"\n",
    "        return tex\n",
    "# function to save file in the current directory\n",
    "def save_file(tex):\n",
    "    if not os.path.exists('./scraped_articles'):\n",
    "        os.mkdir('./scraped_articles')\n",
    "    name = url.split(\"/\")[-1]\n",
    "    print(name)\n",
    "    f_name=f'scraped_articles/{name}.txt'\n",
    "\t# Code here - write a file using with (2 lines)\n",
    "    with open(f_name,'w') as f:\n",
    "         f.write(tex)\n",
    "    print(f'File saved in directory {f_name}')\n",
    "if __name__ == '__main__':\n",
    "    text = collect_text(get_page())\n",
    "    save_file(text)"
   ]
  },
  {
   "cell_type": "code",
   "execution_count": null,
   "metadata": {},
   "outputs": [],
   "source": [
    "\n"
   ]
  },
  {
   "cell_type": "code",
   "execution_count": null,
   "metadata": {},
   "outputs": [],
   "source": []
  },
  {
   "cell_type": "code",
   "execution_count": null,
   "metadata": {},
   "outputs": [],
   "source": []
  }
 ],
 "metadata": {
  "kernelspec": {
   "display_name": "Python 3",
   "language": "python",
   "name": "python3"
  },
  "language_info": {
   "codemirror_mode": {
    "name": "ipython",
    "version": 3
   },
   "file_extension": ".py",
   "mimetype": "text/x-python",
   "name": "python",
   "nbconvert_exporter": "python",
   "pygments_lexer": "ipython3",
   "version": "3.7.4"
  }
 },
 "nbformat": 4,
 "nbformat_minor": 2
}
